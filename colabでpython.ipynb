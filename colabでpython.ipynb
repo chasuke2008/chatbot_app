{
  "nbformat": 4,
  "nbformat_minor": 0,
  "metadata": {
    "colab": {
      "provenance": [],
      "authorship_tag": "ABX9TyMqOzySsZI4dApmAiL10HhN",
      "include_colab_link": true
    },
    "kernelspec": {
      "name": "python3",
      "display_name": "Python 3"
    },
    "language_info": {
      "name": "python"
    }
  },
  "cells": [
    {
      "cell_type": "markdown",
      "metadata": {
        "id": "view-in-github",
        "colab_type": "text"
      },
      "source": [
        "<a href=\"https://colab.research.google.com/github/chasuke2008/chatbot_app/blob/main/colab%E3%81%A7python.ipynb\" target=\"_parent\"><img src=\"https://colab.research.google.com/assets/colab-badge.svg\" alt=\"Open In Colab\"/></a>"
      ]
    },
    {
      "cell_type": "markdown",
      "metadata": {
        "id": "iMsta3oWT7eP"
      },
      "source": [
        "# Python1年生 (1)\n",
        "\n",
        "体験して分かるプログラミングのしくみ  \n",
        "入門者向けの参考書のプログラムをGoogle Colaboratoryで動かしてみよう。\n",
        "\n",
        "後半は、人が画面を操作するインターフェースを使うので、クラウドのColaboratoryでは難しいので省略します。興味のある人はPythonをインストールしたパソコンで動かしましょう。"
      ]
    },
    {
      "cell_type": "markdown",
      "metadata": {
        "id": "nfGCrx0BUmZW"
      },
      "source": [
        "### 基本命令 print()を使います。\n",
        "**書式**\n",
        "\n",
        "\n",
        "```\n",
        "print(値)\n",
        "print(値1, 値2)\n",
        "```\n",
        "次のコードを入力してみよう\n",
        "```\n",
        "print(1+1)\n",
        "```\n"
      ]
    },
    {
      "cell_type": "code",
      "metadata": {
        "colab": {
          "base_uri": "https://localhost:8080/"
        },
        "id": "8BipJ84AT6n_",
        "outputId": "a39ee5bf-3e42-415f-dfd6-546445878ae4"
      },
      "source": [
        "# このセルに書き込みます。(#行はコメントで、プログラムには影響しません)\n",
        "print( 1 + 1 )\n",
        "# このように入力します。実行は左の▶ボタンをマウスでクリックするか、キーボードのctrlキーを押しながらEnterキーを押します。\n",
        "# 次の行に自分で入力して実行してみよう。\n"
      ],
      "execution_count": null,
      "outputs": [
        {
          "output_type": "stream",
          "text": [
            "2\n"
          ],
          "name": "stdout"
        }
      ]
    },
    {
      "cell_type": "code",
      "metadata": {
        "id": "Yy23RQCnWJte"
      },
      "source": [
        "# print(100-1)と入力してみよう\n",
        "\n"
      ],
      "execution_count": null,
      "outputs": []
    },
    {
      "cell_type": "markdown",
      "metadata": {
        "id": "dhuPb01OWPBN"
      },
      "source": [
        "文字を表示しよう。\n",
        "\n",
        "\n",
        "```\n",
        "print(\"Hello\")\n",
        "```\n",
        "\n"
      ]
    },
    {
      "cell_type": "code",
      "metadata": {
        "colab": {
          "base_uri": "https://localhost:8080/"
        },
        "id": "K1FxgyELxrzp",
        "outputId": "b1744546-7563-4c4a-9a5f-9d7d98729e79"
      },
      "source": [
        "print(\"Hello\")"
      ],
      "execution_count": null,
      "outputs": [
        {
          "output_type": "stream",
          "text": [
            "Hello\n"
          ],
          "name": "stdout"
        }
      ]
    },
    {
      "cell_type": "code",
      "metadata": {
        "id": "na8CrNomZXOc"
      },
      "source": [
        "# 次の行に自分でコードを入力して実行しよう。\n"
      ],
      "execution_count": null,
      "outputs": []
    },
    {
      "cell_type": "markdown",
      "metadata": {
        "id": "RCX2hfQ0xxcY"
      },
      "source": [
        "文字列や数字を組み合わせて表示する  \n",
        "\n",
        "```\n",
        "print(\"答えは\", 10 + 20)\n",
        "```"
      ]
    },
    {
      "cell_type": "code",
      "metadata": {
        "colab": {
          "base_uri": "https://localhost:8080/"
        },
        "id": "Ino-Eq3JxwD4",
        "outputId": "dc706a20-a859-44bb-b397-219e59ea8394"
      },
      "source": [
        "print(\"答えは\", 10 + 20)"
      ],
      "execution_count": null,
      "outputs": [
        {
          "output_type": "stream",
          "text": [
            "答えは 30\n"
          ],
          "name": "stdout"
        }
      ]
    },
    {
      "cell_type": "code",
      "metadata": {
        "id": "5q2zzV2fZkQD"
      },
      "source": [
        "# 次の行に自分でコードを入力して実行しよう。数字を変えてみよう。\n"
      ],
      "execution_count": null,
      "outputs": []
    },
    {
      "cell_type": "markdown",
      "metadata": {
        "id": "Ad6yLlsMyL4I"
      },
      "source": [
        "シングルクオーテーション(’)とダブルクオーテーション(\")は、どちらも同じように使えます。組み合わせて、文字の強調などに使うこともできます。\n",
        "\n",
        "```\n",
        "print('\"クオーテーション\"は\"引用\"という意味です。')\n",
        "```"
      ]
    },
    {
      "cell_type": "code",
      "metadata": {
        "colab": {
          "base_uri": "https://localhost:8080/"
        },
        "id": "PxufulnLyGEg",
        "outputId": "7672214f-27f4-4c70-db6b-624060a76c48"
      },
      "source": [
        "print('\"クオーテーション\"は\"引用\"という意味です。')"
      ],
      "execution_count": null,
      "outputs": [
        {
          "output_type": "stream",
          "text": [
            "\"クオーテーション\"は\"引用\"という意味です。\n"
          ],
          "name": "stdout"
        }
      ]
    },
    {
      "cell_type": "code",
      "metadata": {
        "id": "Aleu7vnEZp97"
      },
      "source": [
        "# 次の行に自分でコードを入力して実行しよう。文字列を変えてみよう。\n"
      ],
      "execution_count": null,
      "outputs": []
    },
    {
      "cell_type": "markdown",
      "source": [
        "# 参照\n",
        "配付資料の、forを使った繰返しのプログラムを作ってみます。"
      ],
      "metadata": {
        "id": "nRRvw-gfUdGm"
      }
    },
    {
      "cell_type": "code",
      "source": [
        "x = 0\n",
        "for i in range(1, 11):\n",
        "    x += i\n",
        "print(x)\n"
      ],
      "metadata": {
        "colab": {
          "base_uri": "https://localhost:8080/"
        },
        "id": "svP6RRQcUZfv",
        "outputId": "cba560a1-ebf3-494c-b38c-fca18a1865a8"
      },
      "execution_count": 3,
      "outputs": [
        {
          "output_type": "stream",
          "name": "stdout",
          "text": [
            "55\n"
          ]
        }
      ]
    }
  ]
}