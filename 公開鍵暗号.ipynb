{
  "nbformat": 4,
  "nbformat_minor": 0,
  "metadata": {
    "colab": {
      "provenance": [],
      "authorship_tag": "ABX9TyOm7HHw/XiQpMqzX8WkHZLO",
      "include_colab_link": true
    },
    "kernelspec": {
      "name": "python3",
      "display_name": "Python 3"
    },
    "language_info": {
      "name": "python"
    }
  },
  "cells": [
    {
      "cell_type": "markdown",
      "metadata": {
        "id": "view-in-github",
        "colab_type": "text"
      },
      "source": [
        "<a href=\"https://colab.research.google.com/github/chasuke2008/chatbot_app/blob/main/%E5%85%AC%E9%96%8B%E9%8D%B5%E6%9A%97%E5%8F%B7.ipynb\" target=\"_parent\"><img src=\"https://colab.research.google.com/assets/colab-badge.svg\" alt=\"Open In Colab\"/></a>"
      ]
    },
    {
      "cell_type": "code",
      "execution_count": 1,
      "metadata": {
        "id": "KzijAtvuc-sH"
      },
      "outputs": [],
      "source": [
        "from cryptography.hazmat.backends import default_backend\n",
        "from cryptography.hazmat.primitives.asymmetric import rsa\n",
        "\n",
        "# 鍵の生成\n",
        "private_key = rsa.generate_private_key(\n",
        "    public_exponent=65537,\n",
        "    key_size=2048,\n",
        "    backend=default_backend()\n",
        ")\n",
        "\n",
        "public_key = private_key.public_key()\n"
      ]
    },
    {
      "cell_type": "code",
      "source": [
        "from cryptography.hazmat.primitives.asymmetric import padding\n",
        "from cryptography.hazmat.primitives import hashes\n",
        "\n",
        "# 送信するメッセージ\n",
        "message = b\"Hello, this is a secret message!\"\n",
        "\n",
        "# メッセージの暗号化\n",
        "encrypted_message = public_key.encrypt(\n",
        "    message,\n",
        "    padding.OAEP(\n",
        "        mgf=padding.MGF1(algorithm=hashes.SHA256()),\n",
        "        algorithm=hashes.SHA256(),\n",
        "        label=None\n",
        "    )\n",
        ")\n"
      ],
      "metadata": {
        "id": "o69ylWYmdAWf"
      },
      "execution_count": 2,
      "outputs": []
    },
    {
      "cell_type": "code",
      "source": [
        "print(message)\n",
        "print(\"暗号化\")\n",
        "print(encrypted_message)"
      ],
      "metadata": {
        "colab": {
          "base_uri": "https://localhost:8080/"
        },
        "id": "U07Hq58odHhX",
        "outputId": "ecf30762-9227-4c94-956c-a6c5996bc652"
      },
      "execution_count": 5,
      "outputs": [
        {
          "output_type": "stream",
          "name": "stdout",
          "text": [
            "b'Hello, this is a secret message!'\n",
            "暗号化\n",
            "b'\\x92\\xb7\\x1ed\\xb2\\xad\\xef\\xaei\\xeb\\x94n\\xaa\\xc3*\\x02?\\xfc\\x0568\\x12p\\xcd(M\\xe3\\x15 \\x1bb\\x17\\xf8\\x1aK\\x1d\\t\\xdbC}\\xe6\\x97U\\xf0\\xa4\\xeb\\x1cR\\xbf\\x0fMBq5\\x81\\x0f\\x0f\\xfb\\x1b(\\xb6\\xd9\\x7f/\\x1e\\x94\\t\\xaa?\\xd4j^\\x95\\xf4\\xb8\\xb0\\x13\\xe2\\xf0\\x96\\xbe\\\\\\x01b\\xbc+)\\xa3;\\xbf\\xb2\\x0e\\xd9r\\x0e\\xf4+1\\t^:\\xdf\\xc2\\x143sr\\xf5\\xa4jt\\xafg\\xe8t\\x06\\xcf\\xc7\\x032\\x87;i-\\xbc\\xf0\\x14x\\xfa\\xe3\\x08\\xde\\xaeh\\xaf\\x07%\\x8d\\t\\xff\\x80\\x1c4\\x00j\\x0f\\xc2\\x17\\x82\\xfanU\\x0bu\\x14\\x86l\\xff\"\\xebK5I\\xbd<\\x0f\\xc6\\xf7\\x82K~\\xd7\\xe3\\x16;\\xb2W\\xeb\\\\\\xa2`\\x84l\\xeb$\\xd4\\xf5\\x1e\\xc8\\xbe\\xe3\\x0c\\xcat\"\\\\ab;\\xeay\\x8aF\\x8e2\\xcb\\xcfw\\xc6\\x02TG\\xcf#\\xe5(Ld\\xe0\\xf7\\x9f\\xec\\xa8\\xbd3\\r\\xde\\x9b\\xd8\\xcd\\x9e\\x81\\xdcd\\xf0\\x90\\x10\\xf8\\xed\\xe6\\xe0_\\x04\\x8bHvS|\\xab\\xc9\\xeff0\\x84I\\x1a'\n"
          ]
        }
      ]
    },
    {
      "cell_type": "code",
      "source": [
        "# メッセージの復号\n",
        "decrypted_message = private_key.decrypt(\n",
        "    encrypted_message,\n",
        "    padding.OAEP(\n",
        "        mgf=padding.MGF1(algorithm=hashes.SHA256()),\n",
        "        algorithm=hashes.SHA256(),\n",
        "        label=None\n",
        "    )\n",
        ")\n",
        "\n",
        "print(decrypted_message.decode())  # \"Hello, this is a secret message!\"\n"
      ],
      "metadata": {
        "colab": {
          "base_uri": "https://localhost:8080/"
        },
        "id": "D3PWHDMidCf3",
        "outputId": "c91eb206-7935-469a-97c8-9e86392aca64"
      },
      "execution_count": 6,
      "outputs": [
        {
          "output_type": "stream",
          "name": "stdout",
          "text": [
            "Hello, this is a secret message!\n"
          ]
        }
      ]
    },
    {
      "cell_type": "markdown",
      "source": [],
      "metadata": {
        "id": "sSJ_Z4hieJ_f"
      }
    },
    {
      "cell_type": "markdown",
      "source": [
        "**このデモの流れ**\n",
        "\n",
        "* 鍵の生成: 送信者と受信者がそれぞれの鍵ペアを生成します。\n",
        "* 暗号化: 受信者の公開鍵を使って、送信者がメッセージを暗号化します。\n",
        "* 送付: 暗号化されたメッセージを送信します。\n",
        "* 復号: 受信者が自分の秘密鍵でメッセージを復号します。\n",
        "\n",
        "**注意点**\n",
        "\n",
        "* 実際のアプリケーションでは、鍵の管理や安全な通信手段が必\n",
        "\n",
        "要です。\n",
        "* メッセージの長さが大きくなると、暗号化方法によっては分割する必要があります。\n",
        "* エラーハンドリングやセキュリティの強化が求められます。\n",
        "\n",
        "この手順を実行することで、公開鍵方式の暗号送付の流れを理解できると思います。興味があれば、実際にコードを実行してみるのも良いでしょう！"
      ],
      "metadata": {
        "id": "-idNpuFNdmGQ"
      }
    }
  ]
}